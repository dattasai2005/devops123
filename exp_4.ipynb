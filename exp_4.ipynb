{
  "nbformat": 4,
  "nbformat_minor": 0,
  "metadata": {
    "colab": {
      "provenance": [],
      "include_colab_link": true
    },
    "kernelspec": {
      "name": "python3",
      "display_name": "Python 3"
    },
    "language_info": {
      "name": "python"
    }
  },
  "cells": [
    {
      "cell_type": "markdown",
      "metadata": {
        "id": "view-in-github",
        "colab_type": "text"
      },
      "source": [
        "<a href=\"https://colab.research.google.com/github/dattasai2005/devops123/blob/main/exp_4.ipynb\" target=\"_parent\"><img src=\"https://colab.research.google.com/assets/colab-badge.svg\" alt=\"Open In Colab\"/></a>"
      ]
    },
    {
      "cell_type": "code",
      "execution_count": 1,
      "metadata": {
        "id": "JOUFajIX9aC9",
        "outputId": "f514dcc4-5321-4e51-e3f5-a62d2254cf28",
        "colab": {
          "base_uri": "https://localhost:8080/"
        }
      },
      "outputs": [
        {
          "output_type": "stream",
          "name": "stdout",
          "text": [
            "Downloading data from https://storage.googleapis.com/tensorflow/tf-keras-datasets/boston_housing.npz\n",
            "\u001b[1m57026/57026\u001b[0m \u001b[32m━━━━━━━━━━━━━━━━━━━━\u001b[0m\u001b[37m\u001b[0m \u001b[1m0s\u001b[0m 0us/step\n"
          ]
        },
        {
          "output_type": "stream",
          "name": "stderr",
          "text": [
            "/usr/local/lib/python3.11/dist-packages/keras/src/layers/core/dense.py:87: UserWarning: Do not pass an `input_shape`/`input_dim` argument to a layer. When using Sequential models, prefer using an `Input(shape)` object as the first layer in the model instead.\n",
            "  super().__init__(activity_regularizer=activity_regularizer, **kwargs)\n"
          ]
        },
        {
          "output_type": "stream",
          "name": "stdout",
          "text": [
            "Epoch 1/5\n",
            "\u001b[1m11/11\u001b[0m \u001b[32m━━━━━━━━━━━━━━━━━━━━\u001b[0m\u001b[37m\u001b[0m \u001b[1m5s\u001b[0m 41ms/step - loss: 580.9534 - mae: 21.8512 - val_loss: 62.9568 - val_mae: 6.3090\n",
            "Epoch 2/5\n",
            "\u001b[1m11/11\u001b[0m \u001b[32m━━━━━━━━━━━━━━━━━━━━\u001b[0m\u001b[37m\u001b[0m \u001b[1m0s\u001b[0m 10ms/step - loss: 124.1970 - mae: 8.1656 - val_loss: 29.9722 - val_mae: 4.3412\n",
            "Epoch 3/5\n",
            "\u001b[1m11/11\u001b[0m \u001b[32m━━━━━━━━━━━━━━━━━━━━\u001b[0m\u001b[37m\u001b[0m \u001b[1m0s\u001b[0m 9ms/step - loss: 57.8173 - mae: 5.6692 - val_loss: 19.3992 - val_mae: 3.2271\n",
            "Epoch 4/5\n",
            "\u001b[1m11/11\u001b[0m \u001b[32m━━━━━━━━━━━━━━━━━━━━\u001b[0m\u001b[37m\u001b[0m \u001b[1m0s\u001b[0m 7ms/step - loss: 49.7647 - mae: 5.3183 - val_loss: 16.0493 - val_mae: 2.9194\n",
            "Epoch 5/5\n",
            "\u001b[1m11/11\u001b[0m \u001b[32m━━━━━━━━━━━━━━━━━━━━\u001b[0m\u001b[37m\u001b[0m \u001b[1m0s\u001b[0m 7ms/step - loss: 56.3839 - mae: 5.5354 - val_loss: 17.6695 - val_mae: 3.1717\n",
            "\u001b[1m1/1\u001b[0m \u001b[32m━━━━━━━━━━━━━━━━━━━━\u001b[0m\u001b[37m\u001b[0m \u001b[1m0s\u001b[0m 67ms/step\n",
            "Predicted Prices: [11.928212 14.371415 21.736946 30.63593  25.648159 16.322256 25.822495]\n",
            "Actual Prices: [ 7.2 18.8 19.  27.  22.2 24.5 31.2]\n",
            "   Predicted Prices  Actual Prices\n",
            "0         11.928212            7.2\n",
            "1         14.371415           18.8\n",
            "2         21.736946           19.0\n",
            "3         30.635929           27.0\n",
            "4         25.648159           22.2\n",
            "5         16.322256           24.5\n",
            "6         25.822495           31.2\n",
            "\u001b[1m4/4\u001b[0m \u001b[32m━━━━━━━━━━━━━━━━━━━━\u001b[0m\u001b[37m\u001b[0m \u001b[1m0s\u001b[0m 4ms/step - loss: 18.9528 - mae: 3.3705 \n",
            "Test Loss (MSE): 22.55\n",
            "Test Mean Absolute Error (MAE): 3.57\n"
          ]
        }
      ],
      "source": [
        "#import numpy as np\n",
        "from tensorflow.keras.datasets import boston_housing\n",
        "(x_train, y_train), (x_test, y_test) = boston_housing.load_data()\n",
        "\n",
        "\n",
        "from sklearn.preprocessing import StandardScaler\n",
        "scaler = StandardScaler()\n",
        "x_train = scaler.fit_transform(x_train)\n",
        "x_test = scaler.transform(x_test)\n",
        "\n",
        "\n",
        "from sklearn.model_selection import train_test_split\n",
        "x_train, x_val, y_train, y_val = train_test_split(x_train, y_train, test_size=0.2, random_state=42)\n",
        "\n",
        "\n",
        "from tensorflow.keras.models import Sequential\n",
        "from tensorflow.keras.layers import Dense, Dropout\n",
        "model = Sequential([\n",
        "    Dense(64, input_shape=(x_train.shape[1],), activation='relu'),\n",
        "    Dropout(0.3),\n",
        "    Dense(32, activation='relu'),\n",
        "    Dense(32, activation='relu'),\n",
        "    Dropout(0.3),\n",
        "    Dense(1, activation='linear')\n",
        "])\n",
        "\n",
        "\n",
        "from tensorflow.keras.optimizers import Adam\n",
        "model.compile(\n",
        "    optimizer=Adam(learning_rate=0.01),\n",
        "    loss='mse',\n",
        "    metrics=['mae'])\n",
        "\n",
        "\n",
        "batch_size = 32\n",
        "epochs = 5\n",
        "history = model.fit(\n",
        "    x_train, y_train,\n",
        "    batch_size=batch_size,\n",
        "    epochs=epochs,\n",
        "    validation_data=(x_val, y_val),\n",
        "    verbose=1\n",
        ")\n",
        "\n",
        "\n",
        "test_loss, test_mae = model.evaluate(x_test, y_test, verbose=0)\n",
        "#print(test_loss,test_mae)\n",
        "\n",
        "# output\n",
        "predicted_prices = model.predict(x_test[:7])\n",
        "print(f\"Predicted Prices: {predicted_prices.flatten()}\")\n",
        "print(f\"Actual Prices: {y_test[:7]}\")\n",
        "\n",
        "import pandas as pd\n",
        "\n",
        "# Create a DataFrame with predicted and actual prices\n",
        "data = {\n",
        "    'Predicted Prices': predicted_prices.flatten()[:7],\n",
        "    'Actual Prices': y_test[:7]\n",
        "}\n",
        "df = pd.DataFrame(data)\n",
        "\n",
        "# Display the DataFrame\n",
        "print(df)\n",
        "\n",
        "\n",
        "test_loss, test_mae = model.evaluate(x_test, y_test, verbose=1)\n",
        "print(f\"Test Loss (MSE): {test_loss:.2f}\")\n",
        "# Test loss is MSE\n",
        "print(f\"Test Mean Absolute Error (MAE): {test_mae:.2f}\")\n",
        "\n"
      ]
    }
  ]
}